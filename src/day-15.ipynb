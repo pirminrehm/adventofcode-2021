{
 "cells": [
  {
   "cell_type": "code",
   "execution_count": 2,
   "metadata": {
    "collapsed": true
   },
   "outputs": [],
   "source": [
    "import numpy as np\n",
    "import itertools\n",
    "import sys\n",
    "import inspect\n",
    "np.set_printoptions(threshold=sys.maxsize)\n",
    "np.set_printoptions(linewidth=200)\n",
    "MAX_INT16 = np.iinfo(np.int16).max;\n",
    "MAX_INT32 = np.iinfo(np.int32).max;\n",
    "from IPython.display import display, clear_output"
   ]
  },
  {
   "cell_type": "code",
   "execution_count": 3,
   "metadata": {},
   "outputs": [],
   "source": [
    "f = open(\"../input/day-15.input.txt\",\"r\")\n",
    "lines = f.read().splitlines()\n",
    "\n",
    "\n",
    "initial_levels = np.array(\n",
    "    list(map(lambda row: \n",
    "             list(map(lambda cell: int(cell), row))\n",
    "        , lines)\n",
    "    )\n",
    ")"
   ]
  },
  {
   "cell_type": "code",
   "execution_count": 3,
   "metadata": {
    "collapsed": true
   },
   "outputs": [],
   "source": [
    "## testing\n",
    "test_levels = np.array([\n",
    "[1,1,6,3,7,5,1,7,4,2],\n",
    "[1,3,8,1,3,7,3,6,7,2],\n",
    "[2,1,3,6,5,1,1,3,2,8],\n",
    "[3,6,9,4,9,3,1,5,6,9],\n",
    "[7,4,6,3,4,1,7,1,1,1],\n",
    "[1,3,1,9,1,2,8,1,3,7],\n",
    "[1,3,5,9,9,1,2,4,2,1],\n",
    "[3,1,2,5,4,2,1,6,3,9],\n",
    "[1,2,9,3,1,3,8,5,2,1],\n",
    "[2,3,1,1,9,4,4,5,8,1],\n",
    "], np.int32)"
   ]
  },
  {
   "cell_type": "code",
   "execution_count": 4,
   "metadata": {},
   "outputs": [
    {
     "data": {
      "text/plain": [
       "array([[1, 1, 6, 3, 7, 5, 1, 7, 4, 2],\n",
       "       [1, 3, 8, 1, 3, 7, 3, 6, 7, 2],\n",
       "       [2, 1, 3, 6, 5, 1, 1, 3, 2, 8],\n",
       "       [3, 6, 9, 4, 9, 3, 1, 5, 6, 9],\n",
       "       [7, 4, 6, 3, 4, 1, 7, 1, 1, 1],\n",
       "       [1, 3, 1, 9, 1, 2, 8, 1, 3, 7],\n",
       "       [1, 3, 5, 9, 9, 1, 2, 4, 2, 1],\n",
       "       [3, 1, 2, 5, 4, 2, 1, 6, 3, 9],\n",
       "       [1, 2, 9, 3, 1, 3, 8, 5, 2, 1],\n",
       "       [2, 3, 1, 1, 9, 4, 4, 5, 8, 1]])"
      ]
     },
     "execution_count": 4,
     "metadata": {},
     "output_type": "execute_result"
    }
   ],
   "source": [
    "test_levels"
   ]
  },
  {
   "cell_type": "code",
   "execution_count": 5,
   "metadata": {},
   "outputs": [
    {
     "data": {
      "text/plain": [
       "[(5, 1), (2, 200), (2, 4)]"
      ]
     },
     "execution_count": 5,
     "metadata": {},
     "output_type": "execute_result"
    }
   ],
   "source": [
    "lst = [(0,0), (5,1), (2,200)]\n",
    "lst.append((2,4))\n",
    "not len([ind for ind, x in enumerate(lst) if x[1] == 200])\n",
    "lst.sort(reverse=True)\n",
    "lst.pop()\n",
    "lst"
   ]
  },
  {
   "cell_type": "code",
   "execution_count": 6,
   "metadata": {
    "collapsed": true,
    "scrolled": false
   },
   "outputs": [],
   "source": [
    "def compute_heuristic_map(input_map):\n",
    "    rows = len(input_map)\n",
    "    columns = len(input_map[0])\n",
    "    heuristics = np.zeros((rows, columns), np.int32)\n",
    "    for r in range(rows):\n",
    "        for c in range(columns):\n",
    "            heuristics[r][c] = rows -r + columns - c -2\n",
    "    return heuristics"
   ]
  },
  {
   "cell_type": "code",
   "execution_count": 7,
   "metadata": {},
   "outputs": [
    {
     "data": {
      "text/plain": [
       "array([[18, 17, 16, 15, 14, 13, 12, 11, 10,  9],\n",
       "       [17, 16, 15, 14, 13, 12, 11, 10,  9,  8],\n",
       "       [16, 15, 14, 13, 12, 11, 10,  9,  8,  7],\n",
       "       [15, 14, 13, 12, 11, 10,  9,  8,  7,  6],\n",
       "       [14, 13, 12, 11, 10,  9,  8,  7,  6,  5],\n",
       "       [13, 12, 11, 10,  9,  8,  7,  6,  5,  4],\n",
       "       [12, 11, 10,  9,  8,  7,  6,  5,  4,  3],\n",
       "       [11, 10,  9,  8,  7,  6,  5,  4,  3,  2],\n",
       "       [10,  9,  8,  7,  6,  5,  4,  3,  2,  1],\n",
       "       [ 9,  8,  7,  6,  5,  4,  3,  2,  1,  0]])"
      ]
     },
     "execution_count": 7,
     "metadata": {},
     "output_type": "execute_result"
    }
   ],
   "source": [
    "test_heuristic_map = compute_heuristic_map(test_levels)\n",
    "test_heuristic_map"
   ]
  },
  {
   "cell_type": "code",
   "execution_count": 8,
   "metadata": {},
   "outputs": [
    {
     "data": {
      "text/plain": [
       "array([18, 17, 16, 15, 14, 13, 12, 11, 10,  9, 17, 16, 15, 14, 13, 12, 11, 10,  9,  8, 16, 15, 14, 13, 12, 11, 10,  9,  8,  7, 15, 14, 13, 12, 11, 10,  9,  8,  7,  6, 14, 13, 12, 11, 10,  9,  8,  7,\n",
       "        6,  5, 13, 12, 11, 10,  9,  8,  7,  6,  5,  4, 12, 11, 10,  9,  8,  7,  6,  5,  4,  3, 11, 10,  9,  8,  7,  6,  5,  4,  3,  2, 10,  9,  8,  7,  6,  5,  4,  3,  2,  1,  9,  8,  7,  6,  5,  4,\n",
       "        3,  2,  1,  0])"
      ]
     },
     "execution_count": 8,
     "metadata": {},
     "output_type": "execute_result"
    }
   ],
   "source": [
    "test_heuristic_map_flat = test_heuristic_map.flatten()\n",
    "test_heuristic_map_flat"
   ]
  },
  {
   "cell_type": "code",
   "execution_count": 9,
   "metadata": {},
   "outputs": [
    {
     "data": {
      "text/plain": [
       "array([[18, 17, 16, 15, 14, 13, 12, 11, 10,  9],\n",
       "       [17, 16, 15, 14, 13, 12, 11, 10,  9,  8],\n",
       "       [16, 15, 14, 13, 12, 11, 10,  9,  8,  7],\n",
       "       [15, 14, 13, 12, 11, 10,  9,  8,  7,  6],\n",
       "       [14, 13, 12, 11, 10,  9,  8,  7,  6,  5],\n",
       "       [13, 12, 11, 10,  9,  8,  7,  6,  5,  4],\n",
       "       [12, 11, 10,  9,  8,  7,  6,  5,  4,  3],\n",
       "       [11, 10,  9,  8,  7,  6,  5,  4,  3,  2],\n",
       "       [10,  9,  8,  7,  6,  5,  4,  3,  2,  1],\n",
       "       [ 9,  8,  7,  6,  5,  4,  3,  2,  1,  0]])"
      ]
     },
     "execution_count": 9,
     "metadata": {},
     "output_type": "execute_result"
    }
   ],
   "source": [
    "test_heuristic_map_flat.reshape((len(test_levels),len(test_levels[0])))"
   ]
  },
  {
   "cell_type": "code",
   "execution_count": 10,
   "metadata": {
    "collapsed": true
   },
   "outputs": [],
   "source": [
    "def list_contains(l,el):\n",
    "    return len(l[l == el]) > 0"
   ]
  },
  {
   "cell_type": "code",
   "execution_count": 39,
   "metadata": {},
   "outputs": [],
   "source": [
    "def a_star(levels_map, goal=None):\n",
    "    levels_map_flat = levels_map.flatten()\n",
    "    heuristic_map = compute_heuristic_map(levels_map)\n",
    "    heuristic_flat_map = heuristic_map.flatten()\n",
    "    \n",
    "    row_length = len(levels_map[0])\n",
    "    col_length = len(levels_map)\n",
    "    \n",
    "    if not goal:\n",
    "        goal = (row_length * col_length) -1\n",
    "    openlist = [(0,0)] \n",
    "    g_values_flat = np.full(col_length*row_length, 0, np.int32)\n",
    "    g_values_flat[0] = 0\n",
    "    previous_flat_map = np.full(col_length*row_length, -1, np.int32)\n",
    "    previous_flat_map[0] = 0\n",
    "    closedlist  = np.array([], np.int32)\n",
    "\n",
    "    \n",
    "    # überprüft alle Nachfolgeknoten und fügt sie der Open List hinzu, wenn entweder\n",
    "    # - der Nachfolgeknoten zum ersten Mal gefunden wird, oder\n",
    "    # - ein besserer Weg zu diesem Knoten gefunden wird\n",
    "    def expand_node(current_node):\n",
    "        nonlocal openlist\n",
    "        nonlocal closedlist\n",
    "        successors = np.array([], np.int32);\n",
    "        curr_row = int(current_node/len(levels_map))\n",
    "        curr_col = current_node%len(levels_map)\n",
    "        if curr_row != 0:\n",
    "            successors = np.append(successors, (curr_row - 1) * row_length + curr_col)\n",
    "        if curr_row != len(levels_map)-1:\n",
    "            successors = np.append(successors, (curr_row + 1)  * row_length + curr_col)     \n",
    "        if curr_col != 0:\n",
    "            successors = np.append(successors, curr_row * row_length + curr_col -1)\n",
    "        if curr_col != len(levels_map[0]) - 1:\n",
    "            successors = np.append(successors, curr_row * row_length + curr_col + 1)       \n",
    "\n",
    "\n",
    "        for successor in successors:\n",
    "            # wenn der Nachfolgeknoten bereits auf der Closed List ist – tue nichts\n",
    "            if list_contains(closedlist, successor):\n",
    "                continue\n",
    "            \n",
    "            # g-Wert für den neuen Weg berechnen: g-Wert des Vorgängers plus\n",
    "            # die Kosten der gerade benutzten Kante\n",
    "            tentative_g = g_values_flat[current_node] + levels_map_flat[current_node]\n",
    "            \n",
    "            # wenn der Nachfolgeknoten bereits auf der Open List ist,\n",
    "            # aber der neue Weg nicht besser ist als der alte – tue nichts\n",
    "            openlist_succ_index = [i for i, x in enumerate(openlist) if x[1] == successor]\n",
    "            if len(openlist_succ_index) and tentative_g >= g_values_flat[successor]:\n",
    "                continue\n",
    "    \n",
    "            # Vorgängerzeiger setzen und g Wert merken oder anpassen\n",
    "            previous_flat_map[successor] = current_node\n",
    "            g_values_flat[successor] = tentative_g\n",
    "            \n",
    "            # f-Wert des Knotens in der Open List aktualisieren\n",
    "            # bzw. Knoten mit f-Wert in die Open List einfügen\n",
    "            f = tentative_g + heuristic_flat_map[successor]\n",
    "            if not len(openlist_succ_index): \n",
    "                openlist.append((f, successor))\n",
    "                openlist.sort(reverse=True)\n",
    "            else:\n",
    "                openlist[openlist_succ_index[0]] = (f, successor)\n",
    "\n",
    "            \n",
    "    # diese Schleife wird durchlaufen bis entweder\n",
    "    # - die optimale Lösung gefunden wurde oder\n",
    "    # - feststeht, dass keine Lösung existiert\n",
    "    while len(openlist) != 0:        \n",
    "        # Knoten mit dem geringsten f-Wert aus der Open List entfernen\n",
    "        current_node_f = openlist.pop()\n",
    "\n",
    "        if current_node_f[1] % 1000 == 0:      \n",
    "            clear_output(wait=True)\n",
    "            display(\"Current node is\", current_node_f[1])\n",
    "        \n",
    "        # Wurde das Ziel gefunden?\n",
    "        if current_node_f[1] == goal:\n",
    "            return previous_flat_map\n",
    "        \n",
    "        # Der aktuelle Knoten soll durch nachfolgende Funktionen\n",
    "        # nicht weiter untersucht werden, damit keine Zyklen entstehen\n",
    "        closedlist = np.append(closedlist, current_node_f[1])\n",
    "        \n",
    "        # Wenn das Ziel noch nicht gefunden wurde: Nachfolgeknoten\n",
    "        # des aktuellen Knotens auf die Open List setzen\n",
    "        expand_node(current_node_f[1])\n",
    "    \n",
    "    # die Open List ist leer, es existiert kein Pfad zum Ziel\n",
    "    return \"NoPathFound\""
   ]
  },
  {
   "cell_type": "code",
   "execution_count": 12,
   "metadata": {
    "collapsed": true
   },
   "outputs": [],
   "source": [
    "def mark_previous_recursive(p_map, curr):\n",
    "    if curr == 0:\n",
    "        return p_map;\n",
    "    previous = p_map[curr]\n",
    "    p_map[curr] = 0\n",
    "    return mark_previous(p_map, previous)\n",
    "\n",
    "def mark_previous(p_map, curr):\n",
    "    while True:\n",
    "        if curr == 0:\n",
    "            return p_map;\n",
    "        previous = p_map[curr]\n",
    "        p_map[curr] = 0\n",
    "        curr = previous"
   ]
  },
  {
   "cell_type": "code",
   "execution_count": 13,
   "metadata": {
    "collapsed": true
   },
   "outputs": [],
   "source": [
    "def sum_previous_recursive(p_map, curr, levels):\n",
    "    if curr == 0:\n",
    "        return 0\n",
    "    previous = p_map[curr]\n",
    "    return levels[curr] + sum_previous(p_map, previous, levels)\n",
    "\n",
    "\n",
    "def sum_previous(p_map, curr, levels):\n",
    "    all_sum = 0;\n",
    "    while True:\n",
    "        if curr == 0:\n",
    "            return all_sum\n",
    "        previous = p_map[curr]\n",
    "        all_sum += levels[curr]\n",
    "        curr = previous"
   ]
  },
  {
   "cell_type": "code",
   "execution_count": 41,
   "metadata": {},
   "outputs": [],
   "source": [
    "def print_a_star_info(levels, p_map, print_map=False, goal=None):\n",
    "    if not goal:\n",
    "        goal = len(levels)*len(levels[0]) -1\n",
    "    print(\"\\nbest way: \", sum_previous(p_map.copy(), goal, levels.flatten())) \n",
    "    print(\"visited: \", len(p_map[p_map != -1]))\n",
    "    print(\"not visited: \", len(p_map[p_map == -1]))\n",
    "    if print_map:\n",
    "        print(mark_previous(p_map.copy(), goal).reshape((len(levels),len(levels[0]))))\n",
    "    return mark_previous(p_map.copy(), goal).reshape((len(levels),len(levels[0])))"
   ]
  },
  {
   "cell_type": "code",
   "execution_count": 15,
   "metadata": {},
   "outputs": [
    {
     "data": {
      "text/plain": [
       "'Current node is'"
      ]
     },
     "metadata": {},
     "output_type": "display_data"
    },
    {
     "data": {
      "text/plain": [
       "0"
      ]
     },
     "metadata": {},
     "output_type": "display_data"
    },
    {
     "name": "stdout",
     "output_type": "stream",
     "text": [
      "\n",
      "best way:  40\n",
      "visited:  100\n",
      "not visited:  0\n",
      "[[ 0  0  1  2  3  4  5  6  7  8]\n",
      " [ 0  1 11  3 13 14 26 27 28 18]\n",
      " [ 0  0  0  0  0  0  0 26 27 28]\n",
      " [20 21 22 23 33 25  0  0 28 49]\n",
      " [30 31 41 33 43 35 36  0  0 48]\n",
      " [40 41 51 52 44 45 55 47  0 49]\n",
      " [50 60 61 62 54 55 65 66  0 68]\n",
      " [60 70 71 72 73 65 75 76  0 69]\n",
      " [70 71 72 73 83 75 76 77  0  0]\n",
      " [80 81 91 92 93 85 95 96 88  0]]\n"
     ]
    }
   ],
   "source": [
    "previous_map_test = a_star(test_levels)\n",
    "_ = print_a_star_info(test_levels, previous_map_test, True)"
   ]
  },
  {
   "cell_type": "code",
   "execution_count": 16,
   "metadata": {},
   "outputs": [
    {
     "data": {
      "text/plain": [
       "'Current node is'"
      ]
     },
     "metadata": {},
     "output_type": "display_data"
    },
    {
     "data": {
      "text/plain": [
       "9000"
      ]
     },
     "metadata": {},
     "output_type": "display_data"
    }
   ],
   "source": [
    "previous_map = a_star(initial_levels)"
   ]
  },
  {
   "cell_type": "code",
   "execution_count": 17,
   "metadata": {
    "scrolled": true
   },
   "outputs": [
    {
     "name": "stdout",
     "output_type": "stream",
     "text": [
      "\n",
      "best way:  619\n",
      "visited:  10000\n",
      "not visited:  0\n"
     ]
    }
   ],
   "source": [
    "bestway = print_a_star_info(initial_levels, previous_map)\n",
    "np.savetxt(\"../tmp/a_star_way.txt\", (bestway == 0)+0, fmt='%u')"
   ]
  },
  {
   "cell_type": "markdown",
   "metadata": {},
   "source": [
    "# Part 2"
   ]
  },
  {
   "cell_type": "code",
   "execution_count": 18,
   "metadata": {
    "collapsed": true
   },
   "outputs": [],
   "source": [
    "def enlarge_map(i_map):\n",
    "    new_map = i_map.copy()\n",
    "    for i in range(4):\n",
    "        new_vals = i_map + 1 + i;\n",
    "        new_map = np.append(new_map, new_vals, axis=0)        \n",
    "    copy_map = new_map.copy()\n",
    "    for i in range(4):\n",
    "        new_vals = copy_map + 1 + i;\n",
    "        new_map = np.append(new_map, new_vals, axis=1)\n",
    "    return (new_map -1) % 9 + 1;"
   ]
  },
  {
   "cell_type": "code",
   "execution_count": 19,
   "metadata": {},
   "outputs": [
    {
     "data": {
      "text/plain": [
       "'Current node is'"
      ]
     },
     "metadata": {},
     "output_type": "display_data"
    },
    {
     "data": {
      "text/plain": [
       "2000"
      ]
     },
     "metadata": {},
     "output_type": "display_data"
    },
    {
     "name": "stdout",
     "output_type": "stream",
     "text": [
      "\n",
      "best way:  315\n",
      "visited:  2500\n",
      "not visited:  0\n"
     ]
    }
   ],
   "source": [
    "test_levels_pt2 = enlarge_map(test_levels)\n",
    "previous_map_test_pt2 = a_star(test_levels_pt2)\n",
    "bestway_test_pt2 = print_a_star_info(test_levels_pt2, previous_map_test_pt2, False)\n",
    "np.savetxt(\"../tmp/a_star_way_test_pt2.txt\", (bestway == 0)+0, fmt='%u')"
   ]
  },
  {
   "cell_type": "code",
   "execution_count": 20,
   "metadata": {
    "collapsed": true
   },
   "outputs": [],
   "source": [
    "initial_levels_pt2 = enlarge_map(initial_levels)"
   ]
  },
  {
   "cell_type": "code",
   "execution_count": 21,
   "metadata": {},
   "outputs": [
    {
     "data": {
      "text/plain": [
       "'Current node is'"
      ]
     },
     "metadata": {},
     "output_type": "display_data"
    },
    {
     "data": {
      "text/plain": [
       "249000"
      ]
     },
     "metadata": {},
     "output_type": "display_data"
    }
   ],
   "source": [
    "previous_map_initial_pt2 = a_star(initial_levels_pt2)"
   ]
  },
  {
   "cell_type": "code",
   "execution_count": 22,
   "metadata": {},
   "outputs": [
    {
     "name": "stdout",
     "output_type": "stream",
     "text": [
      "\n",
      "best way:  2922\n",
      "visited:  249993\n",
      "not visited:  7\n"
     ]
    }
   ],
   "source": [
    "bestway_initial_pt2 = print_a_star_info(initial_levels_pt2, previous_map_initial_pt2, False)\n",
    "np.savetxt(\"../tmp/a_star_way_inital_pt2.txt\", (bestway_initial_pt2 == 0)+0, fmt='%u')"
   ]
  },
  {
   "cell_type": "code",
   "execution_count": 23,
   "metadata": {
    "collapsed": true
   },
   "outputs": [],
   "source": [
    "np.savetxt(\"../tmp/initial_levels_pt2.txt\", initial_levels_pt2, fmt='%u')"
   ]
  },
  {
   "cell_type": "code",
   "execution_count": 24,
   "metadata": {
    "collapsed": true
   },
   "outputs": [],
   "source": [
    "np.savetxt(\"../tmp/previous_map_initial_pt2.txt\", previous_map_initial_pt2.reshape((len(initial_levels_pt2),len(initial_levels_pt2[0]))), fmt='%u')"
   ]
  },
  {
   "cell_type": "code",
   "execution_count": 25,
   "metadata": {
    "collapsed": true
   },
   "outputs": [],
   "source": [
    "np.savetxt(\"../tmp/heuristics_pt2.txt\", compute_heuristic_map(initial_levels_pt2), fmt='%u')"
   ]
  },
  {
   "cell_type": "markdown",
   "metadata": {},
   "source": [
    "# Experiments"
   ]
  },
  {
   "cell_type": "code",
   "execution_count": 42,
   "metadata": {
    "collapsed": true
   },
   "outputs": [],
   "source": [
    "goal = len(initial_levels_pt2[0]) * (len(initial_levels_pt2) - 1)"
   ]
  },
  {
   "cell_type": "code",
   "execution_count": 43,
   "metadata": {},
   "outputs": [
    {
     "data": {
      "text/plain": [
       "'Current node is'"
      ]
     },
     "metadata": {},
     "output_type": "display_data"
    },
    {
     "data": {
      "text/plain": [
       "249000"
      ]
     },
     "metadata": {},
     "output_type": "display_data"
    }
   ],
   "source": [
    "previous_map_initial_pt2_down = a_star(initial_levels_pt2, goal)"
   ]
  },
  {
   "cell_type": "code",
   "execution_count": 44,
   "metadata": {},
   "outputs": [
    {
     "name": "stdout",
     "output_type": "stream",
     "text": [
      "\n",
      "best way:  1742\n",
      "visited:  208233\n",
      "not visited:  41767\n"
     ]
    }
   ],
   "source": [
    "bestway_initial_pt2_down = print_a_star_info(initial_levels_pt2, previous_map_initial_pt2_down, False, goal)\n",
    "np.savetxt(\"../tmp/a_star_way_inital_pt2_down.txt\", (bestway_initial_pt2_down == 0)+0, fmt='%u')"
   ]
  }
 ],
 "metadata": {
  "kernelspec": {
   "display_name": "Python 3",
   "language": "python",
   "name": "python3"
  },
  "language_info": {
   "codemirror_mode": {
    "name": "ipython",
    "version": 3
   },
   "file_extension": ".py",
   "mimetype": "text/x-python",
   "name": "python",
   "nbconvert_exporter": "python",
   "pygments_lexer": "ipython3",
   "version": "3.6.2"
  }
 },
 "nbformat": 4,
 "nbformat_minor": 2
}
