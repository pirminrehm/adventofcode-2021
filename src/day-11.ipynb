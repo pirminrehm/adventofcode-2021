{
 "cells": [
  {
   "cell_type": "code",
   "execution_count": 5,
   "metadata": {
    "collapsed": true
   },
   "outputs": [],
   "source": [
    "import numpy as np\n",
    "# import sys\n",
    "# np.set_printoptions(threshold=sys.maxsize)"
   ]
  },
  {
   "cell_type": "code",
   "execution_count": 6,
   "metadata": {},
   "outputs": [],
   "source": [
    "f = open(\"../input/day-11.input.txt\",\"r\")\n",
    "lines = f.read().splitlines()\n",
    "\n",
    "\n",
    "initial_levels = np.array(\n",
    "    list(map(lambda row: \n",
    "             list(map(lambda cell: int(cell), row))\n",
    "        , lines)\n",
    "    )\n",
    ")"
   ]
  },
  {
   "cell_type": "code",
   "execution_count": 7,
   "metadata": {},
   "outputs": [],
   "source": [
    "## testing\n",
    "test_levels = np.array([\n",
    "    [5,4,8,3,1,4,3,2,2,3],\n",
    "    [2,7,4,5,8,5,4,7,1,1],\n",
    "    [5,2,6,4,5,5,6,1,7,3],\n",
    "    [6,1,4,1,3,3,6,1,4,6],\n",
    "    [6,3,5,7,3,8,5,4,7,8],\n",
    "    [4,1,6,7,5,2,4,6,4,5],\n",
    "    [2,1,7,6,8,4,1,7,2,1],\n",
    "    [6,8,8,2,8,8,1,1,3,4],\n",
    "    [4,8,4,6,8,4,8,5,5,4],\n",
    "    [5,2,8,3,7,5,1,5,2,6]\n",
    "])"
   ]
  },
  {
   "cell_type": "code",
   "execution_count": 8,
   "metadata": {},
   "outputs": [
    {
     "data": {
      "text/plain": [
       "array([[2, 2, 6, 4, 5, 5, 2, 4, 7, 5],\n",
       "       [7, 6, 8, 1, 2, 8, 7, 3, 2, 5],\n",
       "       [3, 8, 7, 8, 7, 8, 1, 4, 4, 1],\n",
       "       [6, 8, 6, 8, 4, 7, 1, 7, 7, 6],\n",
       "       [7, 1, 7, 5, 2, 5, 5, 5, 5, 5],\n",
       "       [7, 5, 1, 7, 4, 4, 1, 2, 5, 3],\n",
       "       [3, 5, 1, 3, 4, 1, 8, 8, 4, 8],\n",
       "       [4, 6, 2, 8, 7, 3, 6, 7, 4, 7],\n",
       "       [1, 1, 3, 3, 1, 5, 5, 7, 6, 2],\n",
       "       [8, 8, 1, 6, 6, 2, 1, 6, 6, 3]])"
      ]
     },
     "execution_count": 8,
     "metadata": {},
     "output_type": "execute_result"
    }
   ],
   "source": [
    "initial_levels "
   ]
  },
  {
   "cell_type": "code",
   "execution_count": 9,
   "metadata": {},
   "outputs": [],
   "source": [
    "def plusOneIfNotZero(num):\n",
    "    return num +1 if num != 0 else 0;"
   ]
  },
  {
   "cell_type": "code",
   "execution_count": 10,
   "metadata": {},
   "outputs": [],
   "source": [
    "def next_iteration(level_matrix_input):\n",
    "    flashes = 0;\n",
    "    level_matrix = level_matrix_input.copy();\n",
    "    level_matrix = level_matrix + 1;\n",
    "    while level_matrix.max() >= 10:\n",
    "        for r, row in enumerate(level_matrix):\n",
    "            for c, cell in enumerate(row):\n",
    "                if cell >= 10:\n",
    "                    level_matrix[r][c] = 0;\n",
    "                    flashes+=1;\n",
    "                    above = r-1>=0;\n",
    "                    below = r+1 < len(level_matrix)\n",
    "                    left = c-1 >=0;\n",
    "                    right = c+1 < len(row)\n",
    "                    if above:\n",
    "                        level_matrix[r-1][c] = plusOneIfNotZero(level_matrix[r-1][c]);\n",
    "                        if left:\n",
    "                            level_matrix[r-1][c-1] = plusOneIfNotZero(level_matrix[r-1][c-1]);\n",
    "                        if right:\n",
    "                            level_matrix[r-1][c+1] = plusOneIfNotZero(level_matrix[r-1][c+1]);\n",
    "                    if below:\n",
    "                        level_matrix[r+1][c] = plusOneIfNotZero(level_matrix[r+1][c]);\n",
    "                        if left:\n",
    "                            level_matrix[r+1][c-1] = plusOneIfNotZero(level_matrix[r+1][c-1]);\n",
    "                        if right:\n",
    "                            level_matrix[r+1][c+1] = plusOneIfNotZero(level_matrix[r+1][c+1]);\n",
    "                    if left:\n",
    "                        level_matrix[r][c-1]= plusOneIfNotZero(level_matrix[r][c-1]);\n",
    "                    if right:\n",
    "                        level_matrix[r][c+1] = plusOneIfNotZero(level_matrix[r][c+1]);\n",
    "\n",
    "        \n",
    "    return level_matrix, flashes;"
   ]
  },
  {
   "cell_type": "code",
   "execution_count": 16,
   "metadata": {},
   "outputs": [
    {
     "name": "stdout",
     "output_type": "stream",
     "text": [
      "test levels: 1656\n"
     ]
    }
   ],
   "source": [
    "all_flashes = 0;\n",
    "next_level = test_levels;\n",
    "for i in range(100):\n",
    "    next_level, flashes = next_iteration(next_level);\n",
    "    all_flashes += flashes;\n",
    "\n",
    "print(\"test levels: \" + str(all_flashes))"
   ]
  },
  {
   "cell_type": "code",
   "execution_count": 17,
   "metadata": {},
   "outputs": [
    {
     "name": "stdout",
     "output_type": "stream",
     "text": [
      "my levels: 1632\n"
     ]
    }
   ],
   "source": [
    "all_flashes = 0;\n",
    "next_level = initial_levels;\n",
    "for i in range(100):\n",
    "    next_level, flashes = next_iteration(next_level);\n",
    "    all_flashes += flashes;\n",
    "\n",
    "print(\"my levels: \" + str(all_flashes))"
   ]
  },
  {
   "cell_type": "markdown",
   "metadata": {},
   "source": [
    "## Part 2"
   ]
  },
  {
   "cell_type": "code",
   "execution_count": 18,
   "metadata": {},
   "outputs": [
    {
     "name": "stdout",
     "output_type": "stream",
     "text": [
      "all zero after iteration 303\n"
     ]
    }
   ],
   "source": [
    "iteration = 0;\n",
    "next_level = initial_levels;\n",
    "while next_level.max() != 0:\n",
    "    next_level, flashes = next_iteration(next_level);\n",
    "    iteration += 1;\n",
    "\n",
    "print(\"all zero after iteration \" + str(iteration))"
   ]
  },
  {
   "cell_type": "code",
   "execution_count": null,
   "metadata": {
    "collapsed": true
   },
   "outputs": [],
   "source": []
  }
 ],
 "metadata": {
  "kernelspec": {
   "display_name": "Python 3",
   "language": "python",
   "name": "python3"
  },
  "language_info": {
   "codemirror_mode": {
    "name": "ipython",
    "version": 3
   },
   "file_extension": ".py",
   "mimetype": "text/x-python",
   "name": "python",
   "nbconvert_exporter": "python",
   "pygments_lexer": "ipython3",
   "version": "3.6.2"
  }
 },
 "nbformat": 4,
 "nbformat_minor": 2
}
