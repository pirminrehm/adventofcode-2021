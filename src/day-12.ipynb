{
 "cells": [
  {
   "cell_type": "code",
   "execution_count": 1,
   "metadata": {
    "collapsed": true
   },
   "outputs": [],
   "source": [
    "import numpy as np\n",
    "import itertools\n",
    "# import sys\n",
    "# np.set_printoptions(threshold=sys.maxsize)"
   ]
  },
  {
   "cell_type": "code",
   "execution_count": 2,
   "metadata": {
    "collapsed": true
   },
   "outputs": [],
   "source": [
    "f = open(\"../input/day-12.input.txt\",\"r\")\n",
    "lines = f.read().splitlines()\n",
    "\n",
    "\n",
    "input_pathes = np.array(\n",
    "    list(map(lambda row: \n",
    "             row.split(\"-\")\n",
    "        , lines)\n",
    "    )\n",
    ")"
   ]
  },
  {
   "cell_type": "code",
   "execution_count": 3,
   "metadata": {
    "collapsed": true
   },
   "outputs": [],
   "source": [
    "## testing\n",
    "test_pathes = np.array([\n",
    "[\"fs\",\"end\"],\n",
    "[\"he\",\"DX\"],\n",
    "[\"fs\",\"he\"],\n",
    "[\"start\",\"DX\"],\n",
    "[\"pj\",\"DX\"],\n",
    "[\"end\",\"zg\"],\n",
    "[\"zg\",\"sl\"],\n",
    "[\"zg\",\"pj\"],\n",
    "[\"pj\",\"he\"],\n",
    "[\"RW\",\"he\"],\n",
    "[\"fs\",\"DX\"],\n",
    "[\"pj\",\"RW\"],\n",
    "[\"zg\",\"RW\"],\n",
    "[\"start\",\"pj\"],\n",
    "[\"he\",\"WI\"],\n",
    "[\"zg\",\"he\"],\n",
    "[\"pj\",\"fs\"],\n",
    "[\"start\",\"RW\"],\n",
    "])"
   ]
  },
  {
   "cell_type": "code",
   "execution_count": 15,
   "metadata": {
    "collapsed": true
   },
   "outputs": [],
   "source": [
    "test_pathes2 = np.array([\n",
    "[\"start\",\"A\"],\n",
    "[\"start\",\"b\"],\n",
    "[\"A\",\"c\"],\n",
    "[\"A\",\"b\"],\n",
    "[\"b\",\"d\"],\n",
    "[\"A\",\"end\"],\n",
    "[\"b\",\"end\"],\n",
    "])"
   ]
  },
  {
   "cell_type": "code",
   "execution_count": 4,
   "metadata": {},
   "outputs": [
    {
     "name": "stdout",
     "output_type": "stream",
     "text": [
      "65 90 97 122\n"
     ]
    }
   ],
   "source": [
    "print(ord(\"A\"), ord(\"Z\"), ord(\"a\"), ord(\"z\"))"
   ]
  },
  {
   "cell_type": "code",
   "execution_count": 5,
   "metadata": {
    "collapsed": true
   },
   "outputs": [],
   "source": [
    "def get_permutations(path_list):\n",
    "    return np.array(list(map(lambda path: list(itertools.permutations(path)), path_list))).reshape(2*len(path_list),2 )"
   ]
  },
  {
   "cell_type": "code",
   "execution_count": 6,
   "metadata": {},
   "outputs": [
    {
     "name": "stdout",
     "output_type": "stream",
     "text": [
      "['fs' 'end']\n",
      "['end' 'fs']\n"
     ]
    }
   ],
   "source": [
    "print(get_permutations(test_pathes)[0])\n",
    "print(get_permutations(test_pathes)[1])"
   ]
  },
  {
   "cell_type": "code",
   "execution_count": 7,
   "metadata": {},
   "outputs": [
    {
     "data": {
      "text/plain": [
       "array([['fs', 'end'],\n",
       "       ['end', 'fs'],\n",
       "       ['he', 'DX'],\n",
       "       ['DX', 'he'],\n",
       "       ['fs', 'he'],\n",
       "       ['he', 'fs'],\n",
       "       ['start', 'DX'],\n",
       "       ['DX', 'start'],\n",
       "       ['pj', 'DX'],\n",
       "       ['DX', 'pj'],\n",
       "       ['end', 'zg'],\n",
       "       ['zg', 'end'],\n",
       "       ['zg', 'sl'],\n",
       "       ['sl', 'zg'],\n",
       "       ['zg', 'pj'],\n",
       "       ['pj', 'zg'],\n",
       "       ['pj', 'he'],\n",
       "       ['he', 'pj'],\n",
       "       ['RW', 'he'],\n",
       "       ['he', 'RW'],\n",
       "       ['fs', 'DX'],\n",
       "       ['DX', 'fs'],\n",
       "       ['pj', 'RW'],\n",
       "       ['RW', 'pj'],\n",
       "       ['zg', 'RW'],\n",
       "       ['RW', 'zg'],\n",
       "       ['start', 'pj'],\n",
       "       ['pj', 'start'],\n",
       "       ['he', 'WI'],\n",
       "       ['WI', 'he'],\n",
       "       ['zg', 'he'],\n",
       "       ['he', 'zg'],\n",
       "       ['pj', 'fs'],\n",
       "       ['fs', 'pj'],\n",
       "       ['start', 'RW'],\n",
       "       ['RW', 'start']],\n",
       "      dtype='<U5')"
      ]
     },
     "execution_count": 7,
     "metadata": {},
     "output_type": "execute_result"
    }
   ],
   "source": [
    "get_permutations(test_pathes)"
   ]
  },
  {
   "cell_type": "code",
   "execution_count": 8,
   "metadata": {},
   "outputs": [],
   "source": [
    "def find_all_ways(inital_path_list, start_point):\n",
    "    solutions = []\n",
    "    def find_ways(current_path_list, current, visited=[]):\n",
    "        visited = np.append(visited, current)\n",
    "        if (current == \"end\"):\n",
    "            solutions.append(visited);\n",
    "        opportunities = np.array([p for p in current_path_list if p[0] == current])\n",
    "        for opportunity in opportunities:\n",
    "            if ord(current[0]) >= 97:\n",
    "                new_path_list = np.array(list(filter(lambda x: x[0] != current and x[1] != current ,current_path_list)));\n",
    "                find_ways(new_path_list, opportunity[1], np.copy(visited));\n",
    "            else:\n",
    "                new_path_list = np.array(list(filter(\n",
    "                    lambda x: not (x[0] == opportunity[0] and x[1] == opportunity[1]) ,current_path_list\n",
    "                )));\n",
    "                find_ways(new_path_list, opportunity[1], np.copy(visited));\n",
    "    find_ways(inital_path_list,start_point)\n",
    "    return solutions;"
   ]
  },
  {
   "cell_type": "code",
   "execution_count": 120,
   "metadata": {
    "collapsed": true
   },
   "outputs": [],
   "source": [
    "def unique_arrays(arr_list):\n",
    "    return len(np.unique([tuple(row) for row in arr_list]))"
   ]
  },
  {
   "cell_type": "code",
   "execution_count": 9,
   "metadata": {},
   "outputs": [
    {
     "name": "stdout",
     "output_type": "stream",
     "text": [
      "test path list has 226 solutions\n"
     ]
    }
   ],
   "source": [
    "solutions_test = find_all_ways(get_permutations(test_pathes), \"start\")\n",
    "print(\"test path list has {} solutions\".format(len(solutions_test)))"
   ]
  },
  {
   "cell_type": "code",
   "execution_count": 10,
   "metadata": {},
   "outputs": [
    {
     "name": "stdout",
     "output_type": "stream",
     "text": [
      "input path list has 4378 solutions\n"
     ]
    }
   ],
   "source": [
    "solutions_input = find_all_ways(get_permutations(input_pathes), \"start\")\n",
    "print(\"input path list has {} solutions\".format(len(solutions_input)))"
   ]
  },
  {
   "cell_type": "code",
   "execution_count": 111,
   "metadata": {},
   "outputs": [],
   "source": [
    "def find_all_ways_part2(inital_path_list, start_point):\n",
    "    solutions = []\n",
    "    def find_ways(current_path_list, current, visited=np.array([]), twice_visited = False):\n",
    "        visited = np.append(visited, current)\n",
    "        if (current == \"end\"):\n",
    "            #print(\"final\", visited)\n",
    "            solutions.append(visited);\n",
    "            return;\n",
    "        opportunities = np.array([p for p in current_path_list if p[0] == current])\n",
    "        for opportunity in opportunities:\n",
    "            if ord(current[0]) >= 97:\n",
    "                #print(\"small\", current, twice_visited)\n",
    "                if (visited == current).sum() > 2:\n",
    "                    raise ValueError('bad sum')\n",
    "                if not twice_visited and current != \"start\":\n",
    "                    find_ways(current_path_list, opportunity[1], visited.copy(), True);\n",
    "                               \n",
    "                new_path_list = np.array(list(filter(lambda x: x[0] != current and x[1] != current ,current_path_list)));\n",
    "                find_ways(new_path_list, opportunity[1], visited.copy(), twice_visited);\n",
    "            else:\n",
    "                #print(\"big  \", current, twice_visited)\n",
    "                find_ways(current_path_list, opportunity[1], visited.copy(), twice_visited);\n",
    "    find_ways(inital_path_list, start_point)\n",
    "    return solutions;"
   ]
  },
  {
   "cell_type": "code",
   "execution_count": 121,
   "metadata": {
    "scrolled": false
   },
   "outputs": [
    {
     "name": "stdout",
     "output_type": "stream",
     "text": [
      "part2: small test path list has 36 solutions\n"
     ]
    }
   ],
   "source": [
    "solutions_test_part_2_small = find_all_ways_part2(get_permutations(test_pathes2), \"start\")\n",
    "print(\"part2: small test path list has {} solutions\".format(unique_arrays(solutions_test_part_2_small)))"
   ]
  },
  {
   "cell_type": "code",
   "execution_count": 122,
   "metadata": {},
   "outputs": [
    {
     "name": "stdout",
     "output_type": "stream",
     "text": [
      "part2: big test path list has 3509 solutions\n"
     ]
    }
   ],
   "source": [
    "solutions_test_part_2 = find_all_ways_part2(get_permutations(test_pathes), \"start\")\n",
    "print(\"part2: big test path list has {} solutions\".format(unique_arrays(solutions_test_part_2)))"
   ]
  },
  {
   "cell_type": "code",
   "execution_count": 123,
   "metadata": {},
   "outputs": [],
   "source": [
    "# _ =[print(x) for x in sorted(solutions_test_part_2_small, key=len)]"
   ]
  },
  {
   "cell_type": "code",
   "execution_count": 124,
   "metadata": {
    "scrolled": false
   },
   "outputs": [
    {
     "name": "stdout",
     "output_type": "stream",
     "text": [
      "part2: input path list has 133621 solutions\n"
     ]
    }
   ],
   "source": [
    "solutions_input_part_2 = find_all_ways_part2(get_permutations(input_pathes), \"start\")\n",
    "print(\"part2: input path list has {} solutions\".format(unique_arrays(solutions_input_part_2)))"
   ]
  },
  {
   "cell_type": "code",
   "execution_count": null,
   "metadata": {
    "collapsed": true
   },
   "outputs": [],
   "source": []
  }
 ],
 "metadata": {
  "kernelspec": {
   "display_name": "Python 3",
   "language": "python",
   "name": "python3"
  }
 },
 "nbformat": 4,
 "nbformat_minor": 2
}
